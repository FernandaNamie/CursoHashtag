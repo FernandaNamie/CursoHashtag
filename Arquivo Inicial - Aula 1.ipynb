{
 "cells": [
  {
   "cell_type": "markdown",
   "source": [
    "# Automação de Sistemas e Processos com Python\n",
    "\n",
    "### Desafio:\n",
    "\n",
    "Todos os dias, o nosso sistema atualiza as vendas do dia anterior.\n",
    "O seu trabalho diário, como analista, é enviar um e-mail para a diretoria, assim que começar a trabalhar, com o faturamento e a quantidade de produtos vendidos no dia anterior\n",
    "\n",
    "E-mail da diretoria: seugmail+diretoria@gmail.com<br>\n",
    "Local onde o sistema disponibiliza as vendas do dia anterior: https://drive.google.com/drive/folders/1mhXZ3JPAnekXP_4vX7Z_sJj35VWqayaR?usp=sharing\n",
    "\n",
    "Para resolver isso, vamos usar o pyautogui, uma biblioteca de automação de comandos do mouse e do teclado"
   ],
   "metadata": {}
  },
  {
   "cell_type": "code",
   "execution_count": 2,
   "source": [
    "import pyautogui # faz a automação do mouse e do teclado\r\n",
    "import time # controla o tempo do programa\r\n",
    "import pyperclip # ela permite a gente copiar e colar com o python\r\n",
    "\r\n",
    "pyautogui.PAUSE = 1\r\n",
    "\r\n",
    "# mensagem de alerta de início\r\n",
    "pyautogui.alert(\"O programa vai começar. Não use NADA do seu computador enquanto isso.\")\r\n",
    "\r\n",
    "pyautogui.hotkey('ctrl', 't') # abre nova aba\r\n",
    "link = 'https://drive.google.com/drive/folders/1mhXZ3JPAnekXP_4vX7Z_sJj35VWqayaR?usp=sharing'\r\n",
    "#pyautogui.write('https://drive.google.com/drive/folders/1mhXZ3JPAnekXP_4vX7Z_sJj35VWqayaR?usp=sharing')\r\n",
    "pyperclip.copy(link) # copia o link\r\n",
    "pyautogui.hotkey('ctrl', 'v') # cola link\r\n",
    "pyautogui.press('enter')\r\n",
    "\r\n",
    "# pausa para esperar o site carregar\r\n",
    "time.sleep(5)\r\n",
    "\r\n",
    "pyautogui.click(498, 449, clicks=2) # dá duplo click na pasta \"Aula 1\"\r\n",
    "\r\n",
    "pyautogui.click(1238, 717) # clica no arquivo do excel\r\n",
    "pyautogui.click(1606, 295) # clica nos 3 pontinhos\r\n",
    "pyautogui.click(1355, 838) # faz download\r\n",
    "time.sleep(10)\r\n",
    "\r\n",
    "\r\n",
    "\r\n",
    "\r\n",
    "\r\n",
    "\r\n"
   ],
   "outputs": [],
   "metadata": {}
  },
  {
   "cell_type": "code",
   "execution_count": 17,
   "source": [
    "# Obs.: Para abrir a janela do chrome do zero\r\n",
    "pyautogui.press('win')\r\n",
    "pyautogui.write('chrome')\r\n",
    "pyautogui.press('enter')"
   ],
   "outputs": [],
   "metadata": {}
  },
  {
   "cell_type": "markdown",
   "source": [
    "### Vamos agora ler o arquivo baixado para pegar os indicadores\n",
    "\n",
    "- Faturamento\n",
    "- Quantidade de Produtos"
   ],
   "metadata": {}
  },
  {
   "cell_type": "code",
   "execution_count": 24,
   "source": [
    "import pandas as pd\r\n",
    "\r\n",
    "tabela = pd.read_excel(r'C:\\Users\\namie\\Downloads\\Vendas - Dez.xlsx')\r\n",
    "display(tabela)\r\n",
    "faturamento = tabela['Valor Final'].sum()\r\n",
    "qtde_produtos = tabela['Quantidade'].sum()\r\n",
    "\r\n"
   ],
   "outputs": [
    {
     "output_type": "stream",
     "name": "stdout",
     "text": [
      "      Código Venda       Data                     ID Loja           Produto  \\\n",
      "0            65014 2019-12-01            Shopping Morumbi    Sunga Listrado   \n",
      "1            65014 2019-12-01            Shopping Morumbi   Casaco Listrado   \n",
      "2            65016 2019-12-01           Iguatemi Campinas   Sapato Listrado   \n",
      "3            65016 2019-12-01           Iguatemi Campinas            Casaco   \n",
      "4            65017 2019-12-01          Shopping SP Market        Gorro Liso   \n",
      "...            ...        ...                         ...               ...   \n",
      "7084         69996 2019-12-26  Center Shopping Uberlândia    Short Listrado   \n",
      "7085         69996 2019-12-26  Center Shopping Uberlândia           Mochila   \n",
      "7086         69996 2019-12-26  Center Shopping Uberlândia  Pulseira Estampa   \n",
      "7087         69997 2019-12-26           Ribeirão Shopping   Camisa Listrado   \n",
      "7088         69997 2019-12-26           Ribeirão Shopping       Short Linho   \n",
      "\n",
      "      Quantidade  Valor Unitário  Valor Final  \n",
      "0              5             114          570  \n",
      "1              1             269          269  \n",
      "2              2             363          726  \n",
      "3              1             250          250  \n",
      "4              3              92          276  \n",
      "...          ...             ...          ...  \n",
      "7084           2             102          204  \n",
      "7085           4             270         1080  \n",
      "7086           1              87           87  \n",
      "7087           1             108          108  \n",
      "7088           2             133          266  \n",
      "\n",
      "[7089 rows x 7 columns]\n"
     ]
    }
   ],
   "metadata": {}
  },
  {
   "cell_type": "markdown",
   "source": [
    "### Vamos agora enviar um e-mail pelo gmail"
   ],
   "metadata": {}
  },
  {
   "cell_type": "code",
   "execution_count": 33,
   "source": [
    "# email da diretoria: fernanda.namie+diretoria@gmail.com\r\n",
    "pyautogui.hotkey('ctrl', 't') # abre nova aba\r\n",
    "link = 'https://mail.google.com/'\r\n",
    "#pyautogui.write('https://drive.google.com/drive/folders/1mhXZ3JPAnekXP_4vX7Z_sJj35VWqayaR?usp=sharing')\r\n",
    "pyperclip.copy(link) # copia o link\r\n",
    "pyautogui.hotkey('ctrl', 'v') # cola link\r\n",
    "pyautogui.press('enter')\r\n",
    "\r\n",
    "# pausa para esperar o site carregar\r\n",
    "time.sleep(8)\r\n",
    "\r\n",
    "pyautogui.click(149, 313) # clica em escrever\r\n",
    "pyautogui.write('fernanda.namie+diretoria@gmail.com') # escreve email\r\n",
    "pyautogui.press('tab')\r\n",
    "\r\n",
    "pyautogui.press('tab')\r\n",
    "assunto = 'Relatório de Vendas'\r\n",
    "pyperclip.copy(assunto)\r\n",
    "pyautogui.hotkey('ctrl', 'v')\r\n",
    "\r\n",
    "pyautogui.press('tab')\r\n",
    "texto_do_email = f'''Prezados, bom dia\r\n",
    "\r\n",
    "O faturamento foi de R${faturamento:,.2f}\r\n",
    "A quantidade de produtos foi de {qtde_produtos:,}\r\n",
    "\r\n",
    "Att.\r\n",
    "\r\n",
    "Fernanda'''\r\n",
    "\r\n",
    "pyperclip.copy(texto_do_email)\r\n",
    "pyautogui.hotkey('ctrl', 'v')\r\n",
    "\r\n",
    "pyautogui.hotkey('ctrl', 'enter')\r\n",
    "\r\n",
    "\r\n",
    "\r\n"
   ],
   "outputs": [],
   "metadata": {}
  },
  {
   "cell_type": "markdown",
   "source": [
    "#### Use esse código para descobrir qual a posição de um item que queira clicar\n",
    "\n",
    "- Lembre-se: a posição na sua tela é diferente da posição na minha tela"
   ],
   "metadata": {}
  },
  {
   "cell_type": "code",
   "execution_count": 4,
   "source": [
    "import pyautogui\r\n",
    "import time\r\n",
    "\r\n",
    "time.sleep(5)\r\n",
    "pyautogui.position() # dá posição do mouse"
   ],
   "outputs": [
    {
     "output_type": "execute_result",
     "data": {
      "text/plain": [
       "Point(x=293, y=759)"
      ]
     },
     "metadata": {},
     "execution_count": 4
    }
   ],
   "metadata": {}
  }
 ],
 "metadata": {
  "kernelspec": {
   "name": "python3",
   "display_name": "Python 3.9.6 64-bit"
  },
  "language_info": {
   "codemirror_mode": {
    "name": "ipython",
    "version": 3
   },
   "file_extension": ".py",
   "mimetype": "text/x-python",
   "name": "python",
   "nbconvert_exporter": "python",
   "pygments_lexer": "ipython3",
   "version": "3.9.6"
  },
  "interpreter": {
   "hash": "c671d076e68ac5b2199b2bf3c03b21b630ca6d638ab8449d4baa5ae69774884d"
  }
 },
 "nbformat": 4,
 "nbformat_minor": 4
}